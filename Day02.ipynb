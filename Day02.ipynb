{
  "nbformat": 4,
  "nbformat_minor": 0,
  "metadata": {
    "colab": {
      "provenance": [],
      "authorship_tag": "ABX9TyM0OV/rjdFpmMQKH8Y10qek"
    },
    "kernelspec": {
      "name": "python3",
      "display_name": "Python 3"
    },
    "language_info": {
      "name": "python"
    }
  },
  "cells": [
    {
      "cell_type": "markdown",
      "source": [
        "## Day 02\n",
        "### 데이터 정규화, 시계열 데이터\n",
        "정규화 : 데이터의 일관성을 갖도록 하는 사전처리 <br>\n",
        "- A라는 변수는 0 ~ 1, B 변수는 0 ~ 1000 까지 값을 갖는다고 가정했을때 상대적 크기차이가 존재함. B의 영향력이 커져서 머신러닝에 영향을 미치기 때문에 정규화로 데이터의 일관성을 만듦. 정규화를 거쳤을때의 결과는 값들의 범위는 0 ~ 1 그리고 폭은 -1 ~ 1 까지의 범위를 가지게 됨.<br>\n",
        "\n",
        "1. 첫번째 정규화 방식(수동식)\n",
        "  - 최대값으로 원소들 나누기. 사이킥런으로 하지 않음. `abs()` 메소드 사용\n",
        "    - 각 원소의 절대값 / 데이터 셋의 전체 데이터의 최대 절대값\n",
        "2. min - max 스케일링 정규화\n",
        "  - (모든원소 - 최소값) / (최대값 -최소값) = 0 ~ 1의 값을 가짐.\n",
        "3. Z - Score 스케일링\n",
        "  - 평균과 표준편차를 이용한 스케일링 방식.\n",
        "  - Standard Scaling으로도 불림. 가장 많이 쓰이는 방식\n",
        "  - 이상치를 탐지하는 방식으로 많이 사용.\n",
        "    - (모든 원소 - 평균) / 표준편차.\n",
        "    - 가우시안 분포 기반이고 이상치를 대처가 가능한 방법이다. 이상치에 민감함.\n",
        "4. Robust 스케일링\n",
        "  - 중앙값(50%) IQR(분포)\n",
        "  - (전체원소 - 중앙걊)/IQR\n",
        "  - 비 가우시안 분포 기반.\n",
        "    - 중앙값을 빼준 이유는 중앙으로 모아주기 위해서 이다.\n",
        "3. 전수조사\n",
        "  - 모든인구조사\n",
        "4. 표본조사\n",
        "  - 일정 인구 조사\n",
        "\n",
        "시계열 데이터 : 시간과 관련된 데이터<br><br>\n",
        "\n",
        "#### - 시간이 남을 경우 데이터 사전처리\n",
        "\n",
        "### 데이터 프레임의 응용\n",
        "#### - 함수 매핑\n",
        "- 시리즈와 데이터 프레임에 함수를 적용 하는 것."
      ],
      "metadata": {
        "id": "TPG3N7f4fyta"
      }
    },
    {
      "cell_type": "code",
      "execution_count": null,
      "metadata": {
        "colab": {
          "base_uri": "https://localhost:8080/"
        },
        "id": "nqDh4s1oclsG",
        "outputId": "6ab0e65e-0fd1-4505-d4d0-def4a0b256df"
      },
      "outputs": [
        {
          "output_type": "stream",
          "name": "stdout",
          "text": [
            "count    391.000000\n",
            "mean     104.404092\n",
            "std       38.518732\n",
            "min       46.000000\n",
            "25%       75.000000\n",
            "50%       93.000000\n",
            "75%      125.000000\n",
            "max      230.000000\n",
            "Name: horsepower, dtype: float64\n",
            "\n",
            "0    0.717391\n",
            "1    0.652174\n",
            "2    0.652174\n",
            "3    0.608696\n",
            "4    0.860870\n",
            "Name: horsepower, dtype: float64\n",
            "\n",
            "count    391.000000\n",
            "mean       0.453931\n",
            "std        0.167473\n",
            "min        0.200000\n",
            "25%        0.326087\n",
            "50%        0.404348\n",
            "75%        0.543478\n",
            "max        1.000000\n",
            "Name: horsepower, dtype: float64\n",
            "count    391.000000\n",
            "mean       0.317414\n",
            "std        0.209341\n",
            "min        0.000000\n",
            "25%        0.157609\n",
            "50%        0.255435\n",
            "75%        0.429348\n",
            "max        1.000000\n",
            "Name: horsepower, dtype: float64\n",
            "\n",
            "0    0.646739\n",
            "1    0.565217\n",
            "2    0.565217\n",
            "3    0.510870\n",
            "4    0.826087\n",
            "Name: horsepower, dtype: float64\n",
            "\n"
          ]
        }
      ],
      "source": [
        "import pandas as pd\n",
        "import numpy as np\n",
        "\n",
        "df = pd.read_excel('/content/auto-mpg.xlsx')\n",
        "\n",
        "df.columns = ['mpg', 'cylinders', 'displacement', 'horsepower',\n",
        "              'weight', 'acceleration', 'model_year', 'origin', 'name']\n",
        "\n",
        "# print(type(np.nan))\n",
        "\n",
        "df['horsepower'].replace('?', np.nan, inplace = True)\n",
        "# print(df['horsepower'].isnull().sum())\n",
        "\n",
        "df.dropna(subset = ['horsepower'], inplace = True)\n",
        "# print(df['horsepower'].isnull().sum())\n",
        "# print(df.info())\n",
        "\n",
        "df['horsepower'] = df['horsepower'].astype('float')\n",
        "print(df.horsepower.describe())\n",
        "print()\n",
        "# 최대값으로 원소들 나누기\n",
        "df.horsepower = df.horsepower / abs(df.horsepower).max()\n",
        "print(df.horsepower.head())\n",
        "print()\n",
        "print(df.horsepower.describe())\n",
        "# min-max 스케일링 정규화\n",
        "min_x = df.horsepower - df.horsepower.min()\n",
        "min_max = df.horsepower.max() - df.horsepower.min()\n",
        "df.horsepower = min_x / min_max\n",
        "\n",
        "print(df.horsepower.describe())\n",
        "print()\n",
        "print(df.horsepower.head())\n",
        "print()"
      ]
    },
    {
      "cell_type": "code",
      "source": [
        "# min-max 스케일링 정규화\n",
        "import pandas as pd\n",
        "import numpy as np\n",
        "\n",
        "df = pd.read_excel('/content/auto-mpg.xlsx')\n",
        "\n",
        "df.columns = ['mpg', 'cylinders', 'displacement', 'horsepower',\n",
        "              'weight', 'acceleration', 'model_year', 'origin', 'name']\n",
        "\n",
        "# print(type(np.nan))\n",
        "\n",
        "df['horsepower'].replace('?', np.nan, inplace = True)\n",
        "# print(df['horsepower'].isnull().sum())\n",
        "\n",
        "df.dropna(subset = ['horsepower'], inplace = True)\n",
        "# print(df['horsepower'].isnull().sum())\n",
        "# print(df.info())\n",
        "\n",
        "df['horsepower'] = df['horsepower'].astype('float')\n",
        "\n",
        "from sklearn.preprocessing import MinMaxScaler\n",
        "scaler = MinMaxScaler() # 객체 생성\n",
        "df.horsepower = scaler.fit_transform(df[['horsepower']])\n",
        "print(df.horsepower.head())\n"
      ],
      "metadata": {
        "colab": {
          "base_uri": "https://localhost:8080/"
        },
        "id": "CaXpgeWGqXd-",
        "outputId": "8383e713-cdd8-431d-87c7-6a530e3728ad"
      },
      "execution_count": null,
      "outputs": [
        {
          "output_type": "stream",
          "name": "stdout",
          "text": [
            "0    0.646739\n",
            "1    0.565217\n",
            "2    0.565217\n",
            "3    0.510870\n",
            "4    0.826087\n",
            "Name: horsepower, dtype: float64\n"
          ]
        }
      ]
    },
    {
      "cell_type": "code",
      "source": [
        "# Z - Score 스케일링\n",
        "import pandas as pd\n",
        "import numpy as np\n",
        "\n",
        "df = pd.read_excel('/content/auto-mpg.xlsx')\n",
        "\n",
        "df.columns = ['mpg', 'cylinders', 'displacement', 'horsepower',\n",
        "              'weight', 'acceleration', 'model_year', 'origin', 'name']\n",
        "\n",
        "# print(type(np.nan))\n",
        "\n",
        "df['horsepower'].replace('?', np.nan, inplace = True)\n",
        "# print(df['horsepower'].isnull().sum())\n",
        "\n",
        "df.dropna(subset = ['horsepower'], inplace = True)\n",
        "# print(df['horsepower'].isnull().sum())\n",
        "# print(df.info())\n",
        "\n",
        "df['horsepower'] = df['horsepower'].astype('float')\n",
        "\n",
        "mean = np.mean(df['horsepower'], axis = 0)\n",
        "print(mean)\n",
        "print()\n",
        "print(df['horsepower'].describe())\n",
        "\n",
        "# std = np.std(df['horsepower'])\n",
        "std = df['horsepower'].std()\n",
        "print()\n",
        "print(std)\n",
        "print()\n",
        "\n",
        "mean_x = df['horsepower'] - mean\n",
        "df.horsepower = mean_x / std\n",
        "\n",
        "print(df.horsepower.head())\n",
        "print()\n",
        "print(df.horsepower.describe())"
      ],
      "metadata": {
        "colab": {
          "base_uri": "https://localhost:8080/"
        },
        "id": "EtM_jXLKtDRc",
        "outputId": "71341e47-71ca-4c4a-8061-d21b1e225dd6"
      },
      "execution_count": null,
      "outputs": [
        {
          "output_type": "stream",
          "name": "stdout",
          "text": [
            "104.40409207161126\n",
            "\n",
            "count    391.000000\n",
            "mean     104.404092\n",
            "std       38.518732\n",
            "min       46.000000\n",
            "25%       75.000000\n",
            "50%       93.000000\n",
            "75%      125.000000\n",
            "max      230.000000\n",
            "Name: horsepower, dtype: float64\n",
            "\n",
            "38.51873182181278\n",
            "\n",
            "0    1.573154\n",
            "1    1.183733\n",
            "2    1.183733\n",
            "3    0.924119\n",
            "4    2.429880\n",
            "Name: horsepower, dtype: float64\n",
            "\n",
            "count    3.910000e+02\n",
            "mean    -1.453796e-16\n",
            "std      1.000000e+00\n",
            "min     -1.516252e+00\n",
            "25%     -7.633712e-01\n",
            "50%     -2.960661e-01\n",
            "75%      5.346985e-01\n",
            "max      3.260645e+00\n",
            "Name: horsepower, dtype: float64\n"
          ]
        }
      ]
    },
    {
      "cell_type": "code",
      "source": [
        "# 모듈사용\n",
        "import pandas as pd\n",
        "import numpy as np\n",
        "\n",
        "df = pd.read_excel('/content/auto-mpg.xlsx')\n",
        "\n",
        "df.columns = ['mpg', 'cylinders', 'displacement', 'horsepower',\n",
        "              'weight', 'acceleration', 'model_year', 'origin', 'name']\n",
        "\n",
        "# print(type(np.nan))\n",
        "\n",
        "df['horsepower'].replace('?', np.nan, inplace = True)\n",
        "# print(df['horsepower'].isnull().sum())\n",
        "\n",
        "df.dropna(subset = ['horsepower'], inplace = True)\n",
        "# print(df['horsepower'].isnull().sum())\n",
        "# print(df.info())\n",
        "\n",
        "df['horsepower'] = df['horsepower'].astype('float')\n",
        "\n",
        "from sklearn.preprocessing import StandardScaler\n",
        "scaler = StandardScaler()\n",
        "df.horsepower = scaler.fit_transform(df[['horsepower']])\n",
        "print(df.horsepower.head())\n",
        "\n",
        "print()\n",
        "print(df.horsepower.describe())"
      ],
      "metadata": {
        "colab": {
          "base_uri": "https://localhost:8080/"
        },
        "id": "BfNfIfBnvPEX",
        "outputId": "c3a05d89-950a-4164-f885-2a9f0e4044ed"
      },
      "execution_count": null,
      "outputs": [
        {
          "output_type": "stream",
          "name": "stdout",
          "text": [
            "0    1.575170\n",
            "1    1.185250\n",
            "2    1.185250\n",
            "3    0.925303\n",
            "4    2.432994\n",
            "Name: horsepower, dtype: float64\n",
            "\n",
            "count    3.910000e+02\n",
            "mean    -2.180694e-16\n",
            "std      1.001281e+00\n",
            "min     -1.518194e+00\n",
            "25%     -7.643493e-01\n",
            "50%     -2.964455e-01\n",
            "75%      5.353836e-01\n",
            "max      3.264823e+00\n",
            "Name: horsepower, dtype: float64\n"
          ]
        }
      ]
    },
    {
      "cell_type": "code",
      "source": [
        "import pandas as pd\n",
        "import numpy as np\n",
        "\n",
        "df = pd.read_excel('/content/auto-mpg.xlsx')\n",
        "\n",
        "df.columns = ['mpg', 'cylinders', 'displacement', 'horsepower',\n",
        "              'weight', 'acceleration', 'model_year', 'origin', 'name']\n",
        "\n",
        "# print(type(np.nan))\n",
        "\n",
        "df['horsepower'].replace('?', np.nan, inplace = True)\n",
        "# print(df['horsepower'].isnull().sum())\n",
        "\n",
        "df.dropna(subset = ['horsepower'], inplace = True)\n",
        "# print(df['horsepower'].isnull().sum())\n",
        "# print(df.info())\n",
        "\n",
        "df['horsepower'] = df['horsepower'].astype('float')\n",
        "median= df['horsepower'].median()\n",
        "df['horsepower']"
      ],
      "metadata": {
        "id": "wuA23EEexMdz"
      },
      "execution_count": null,
      "outputs": []
    },
    {
      "cell_type": "markdown",
      "source": [
        "## 시계열 데이터\n",
        "- 시간과 관련되어있는 데이터.에 따른 다양한 기능 을 제공.<br>\n",
        "`datetime64` 라는 자료형을 주로 씀.<br>\n",
        "timestamp : 시간의 특정 지점. 2019,2020 등<br>\n",
        "그 년도의 간격을 period 라고 부름.<br>\n",
        "period : 시간의 간격<br>\n",
        "\n",
        "차이점<br>\n",
        "timestamp : 2023-07-02 23:59:59\n",
        "<br>\n",
        "period : 2023-07-02 00:00:00 ~ 2023-07-02 23:59:59\n",
        "<br>\n",
        "두개의 차이점은 timestamp 는 지정된 시간의 마지막 시간대인 59분 59초로 나타내는 특정지점을 나타내지만 period는 시간의 범위대를 통틀어서 나타낸다."
      ],
      "metadata": {
        "id": "dRZ4o9yi3x3X"
      }
    },
    {
      "cell_type": "code",
      "source": [
        "import pandas as pd\n",
        "df = pd.read_csv('/content/stock-data.csv')\n",
        "print(df.head())\n",
        "print()\n",
        "print(df.info())\n",
        "print()\n",
        "\n",
        "df['new_Date'] = pd.to_datetime(df['Date'])\n",
        "print(df.head())\n",
        "print()\n",
        "print()"
      ],
      "metadata": {
        "colab": {
          "base_uri": "https://localhost:8080/"
        },
        "id": "y5jPUkFM8Iyp",
        "outputId": "beebfd1f-9c67-436c-f68a-6271d7f56749"
      },
      "execution_count": null,
      "outputs": [
        {
          "output_type": "stream",
          "name": "stdout",
          "text": [
            "         Date  Close  Start   High    Low  Volume\n",
            "0  2023-07-02  10100  10850  10900  10000  137977\n",
            "1  2023-06-29  10700  10550  10900   9990  170253\n",
            "2  2023-06-28  10400  10900  10950  10150  155769\n",
            "3  2023-06-27  10900  10800  11050  10500  133548\n",
            "4  2023-06-26  10800  10900  11000  10700   63039\n",
            "\n",
            "<class 'pandas.core.frame.DataFrame'>\n",
            "RangeIndex: 20 entries, 0 to 19\n",
            "Data columns (total 6 columns):\n",
            " #   Column  Non-Null Count  Dtype \n",
            "---  ------  --------------  ----- \n",
            " 0   Date    20 non-null     object\n",
            " 1   Close   20 non-null     int64 \n",
            " 2   Start   20 non-null     int64 \n",
            " 3   High    20 non-null     int64 \n",
            " 4   Low     20 non-null     int64 \n",
            " 5   Volume  20 non-null     int64 \n",
            "dtypes: int64(5), object(1)\n",
            "memory usage: 1.1+ KB\n",
            "None\n",
            "\n",
            "         Date  Close  Start   High    Low  Volume   new_Date\n",
            "0  2023-07-02  10100  10850  10900  10000  137977 2023-07-02\n",
            "1  2023-06-29  10700  10550  10900   9990  170253 2023-06-29\n",
            "2  2023-06-28  10400  10900  10950  10150  155769 2023-06-28\n",
            "3  2023-06-27  10900  10800  11050  10500  133548 2023-06-27\n",
            "4  2023-06-26  10800  10900  11000  10700   63039 2023-06-26\n",
            "\n",
            "\n"
          ]
        }
      ]
    },
    {
      "cell_type": "code",
      "source": [
        "import pandas as pd\n",
        "df = pd.read_csv('/content/stock-data.csv')\n",
        "df['new_Date'] = pd.to_datetime(df['Date'])\n",
        "df.set_index('new_Date', inplace= True)\n",
        "df.drop('Date', axis =1 , inplace=True)\n",
        "print(df.head())"
      ],
      "metadata": {
        "colab": {
          "base_uri": "https://localhost:8080/"
        },
        "id": "ir-toumo-DeQ",
        "outputId": "fafe8091-eaf4-4206-baf0-7d579d7fffd3"
      },
      "execution_count": null,
      "outputs": [
        {
          "output_type": "stream",
          "name": "stdout",
          "text": [
            "            Close  Start   High    Low  Volume\n",
            "new_Date                                      \n",
            "2023-07-02  10100  10850  10900  10000  137977\n",
            "2023-06-29  10700  10550  10900   9990  170253\n",
            "2023-06-28  10400  10900  10950  10150  155769\n",
            "2023-06-27  10900  10800  11050  10500  133548\n",
            "2023-06-26  10800  10900  11000  10700   63039\n"
          ]
        }
      ]
    },
    {
      "cell_type": "code",
      "source": [
        "import pandas as pd\n",
        "df = pd.read_csv('/content/stock-data.csv')\n",
        "dates = ['2021-07-18','2022-07-18','2023-07-18']\n",
        "ts_dates = pd.to_datetime(dates)\n",
        "print(ts_dates)\n",
        "print()\n",
        "pr_day = ts_dates.to_period(freq = 'D')# 년도 월 일\n",
        "print(pr_day)\n",
        "print()\n",
        "pr_month = ts_dates.to_period(freq = 'M') #년도 월\n",
        "print(pr_month)\n",
        "print()\n",
        "pr_year = ts_dates.to_period(freq = 'A') #년도\n",
        "print(pr_year)\n",
        "print()\n",
        "pr_hour = ts_dates.to_period(freq = 'H') #시\n",
        "print(pr_hour)\n",
        "print()\n",
        "pr_minute = ts_dates.to_period(freq = 'T') #분\n",
        "print(pr_minute)\n",
        "print()\n",
        "pr_second = ts_dates.to_period(freq = 'S') #초\n",
        "print(pr_second)\n",
        "print()"
      ],
      "metadata": {
        "colab": {
          "base_uri": "https://localhost:8080/"
        },
        "id": "8RB48SxsRkmD",
        "outputId": "1687cfeb-5fc1-4bb1-f9af-e9a7a0fbf77b"
      },
      "execution_count": null,
      "outputs": [
        {
          "output_type": "stream",
          "name": "stdout",
          "text": [
            "DatetimeIndex(['2021-07-18', '2022-07-18', '2023-07-18'], dtype='datetime64[ns]', freq=None)\n",
            "\n",
            "PeriodIndex(['2021-07-18', '2022-07-18', '2023-07-18'], dtype='period[D]')\n",
            "\n",
            "PeriodIndex(['2021-07', '2022-07', '2023-07'], dtype='period[M]')\n",
            "\n",
            "PeriodIndex(['2021', '2022', '2023'], dtype='period[A-DEC]')\n",
            "\n",
            "PeriodIndex(['2021-07-18 00:00', '2022-07-18 00:00', '2023-07-18 00:00'], dtype='period[H]')\n",
            "\n",
            "PeriodIndex(['2021-07-18 00:00', '2022-07-18 00:00', '2023-07-18 00:00'], dtype='period[T]')\n",
            "\n",
            "PeriodIndex(['2021-07-18 00:00:00', '2022-07-18 00:00:00',\n",
            "             '2023-07-18 00:00:00'],\n",
            "            dtype='period[S]')\n",
            "\n"
          ]
        }
      ]
    },
    {
      "cell_type": "markdown",
      "source": [
        "```python\n",
        "to_period() #-> freq 인자를 사용하며 기간단위로 지정.\n",
        "```"
      ],
      "metadata": {
        "id": "gfudpZjHSnSP"
      }
    },
    {
      "cell_type": "code",
      "source": [
        "#시계열 데이터 추가(date_range())\n",
        "import pandas as pd\n",
        "ts_ms = pd.date_range(start ='2023-01-01',\n",
        "                      end=None,\n",
        "                      periods=6,\n",
        "                      freq='MS',\n",
        "                      tz = 'Asia/Seoul')\n",
        "                      #Month Start MS 도 있음.\n",
        "                      #MS: 월초\n",
        "                      #AS: 연초\n",
        "                      #QS: 분기초\n",
        "print(ts_ms)"
      ],
      "metadata": {
        "colab": {
          "base_uri": "https://localhost:8080/"
        },
        "id": "jIsDd4gwUpND",
        "outputId": "bdf9efab-c6d5-4fa4-8e99-b966ebfa92e0"
      },
      "execution_count": null,
      "outputs": [
        {
          "output_type": "stream",
          "name": "stdout",
          "text": [
            "DatetimeIndex(['2023-01-01 00:00:00+09:00', '2023-02-01 00:00:00+09:00',\n",
            "               '2023-03-01 00:00:00+09:00', '2023-04-01 00:00:00+09:00',\n",
            "               '2023-05-01 00:00:00+09:00', '2023-06-01 00:00:00+09:00'],\n",
            "              dtype='datetime64[ns, Asia/Seoul]', freq='MS')\n"
          ]
        }
      ]
    },
    {
      "cell_type": "code",
      "source": [
        "from sklearn.model_selection import train_test_split\n",
        "from sklearn.linear_model import LinearRegression\n",
        "from sklearn.preprocessing import MinMaxScaler\n",
        "df = pd.read_csv('/content/stock-data.csv')\n",
        "\n",
        "df['new_Date'] = pd.to_datetime(df['Date'])\n",
        "df.set_index('new_Date', inplace=True)\n",
        "\n",
        "scaler = MinMaxScaler()\n",
        "\n",
        "df['High_Normalized'] = scaler.fit_transform(df['High'].values.reshape(-1,1))\n",
        "\n",
        "print(df)\n",
        "print()\n",
        "X = df['High_Normalized'].values.reshape(-1,1)\n",
        "y = df['High'].values\n",
        "X_train,X_test,y_train, y_test = train_test_split(X, y, test_size =0.2, random_state = 42)\n",
        "model = LinearRegression()\n",
        "\n",
        "model.fit(X_train, y_train)\n",
        "y_pred = model.predict(X_test)\n",
        "\n",
        "print(y_pred)"
      ],
      "metadata": {
        "colab": {
          "base_uri": "https://localhost:8080/"
        },
        "id": "Rxq5JEqEmwgK",
        "outputId": "fc08ca72-409b-4ac9-f99d-a6e648cc383a"
      },
      "execution_count": null,
      "outputs": [
        {
          "output_type": "stream",
          "name": "stdout",
          "text": [
            "                  Date  Close  Start   High    Low  Volume  High_Normalized\n",
            "new_Date                                                                   \n",
            "2023-07-02  2023-07-02  10100  10850  10900  10000  137977         0.000000\n",
            "2023-06-29  2023-06-29  10700  10550  10900   9990  170253         0.000000\n",
            "2023-06-28  2023-06-28  10400  10900  10950  10150  155769         0.017857\n",
            "2023-06-27  2023-06-27  10900  10800  11050  10500  133548         0.053571\n",
            "2023-06-26  2023-06-26  10800  10900  11000  10700   63039         0.035714\n",
            "2023-06-25  2023-06-25  11150  11400  11450  11000   55519         0.196429\n",
            "2023-06-22  2023-06-22  11300  11250  11450  10750  134805         0.196429\n",
            "2023-06-21  2023-06-21  11200  11350  11750  11200  133002         0.303571\n",
            "2023-06-20  2023-06-20  11550  11200  11600  10900  308596         0.250000\n",
            "2023-06-19  2023-06-19  11300  11850  11950  11300  180656         0.375000\n",
            "2023-06-18  2023-06-18  12000  13400  13400  12000  309787         0.892857\n",
            "2023-06-15  2023-06-15  13400  13600  13600  12900  201376         0.964286\n",
            "2023-06-14  2023-06-14  13450  13200  13700  13150  347451         1.000000\n",
            "2023-06-12  2023-06-12  13200  12200  13300  12050  558148         0.857143\n",
            "2023-06-11  2023-06-11  11950  12000  12250  11950   62293         0.482143\n",
            "2023-06-08  2023-06-08  11950  11950  12200  11800   59258         0.464286\n",
            "2023-06-07  2023-06-07  11950  12200  12300  11900   49088         0.500000\n",
            "2023-06-05  2023-06-05  12150  11800  12250  11800   42485         0.482143\n",
            "2023-06-04  2023-06-04  11900  11900  12200  11700   25171         0.464286\n",
            "2023-06-01  2023-06-01  11900  11800  12100  11750   32062         0.428571\n",
            "\n",
            "[10900. 12250. 12200. 10900.]\n"
          ]
        }
      ]
    }
  ]
}